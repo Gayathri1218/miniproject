{
 "cells": [
  {
   "cell_type": "code",
   "execution_count": 3,
   "id": "1049f466",
   "metadata": {},
   "outputs": [],
   "source": [
    "import pandas as pd\n",
    "df=pd.read_csv(\"NSE-TATAGLOBAL.csv\")"
   ]
  },
  {
   "cell_type": "code",
   "execution_count": 4,
   "id": "2d530fb2",
   "metadata": {},
   "outputs": [
    {
     "name": "stdout",
     "output_type": "stream",
     "text": [
      "WARNING:tensorflow:From C:\\Users\\hp\\anaconda3\\Lib\\site-packages\\keras\\src\\losses.py:2976: The name tf.losses.sparse_softmax_cross_entropy is deprecated. Please use tf.compat.v1.losses.sparse_softmax_cross_entropy instead.\n",
      "\n"
     ]
    }
   ],
   "source": [
    "import numpy as np\n",
    "import pandas as pd\n",
    "import tensorflow as tf\n",
    "import matplotlib.pyplot as plt\n",
    "import sklearn\n",
    "from sklearn.preprocessing import MinMaxScaler\n",
    "import matplotlib.pyplot as plt"
   ]
  },
  {
   "cell_type": "code",
   "execution_count": 5,
   "id": "e2564a24",
   "metadata": {},
   "outputs": [],
   "source": [
    "dataset_train = pd.read_csv('NSE-TATAGLOBAL.csv')"
   ]
  },
  {
   "cell_type": "code",
   "execution_count": 6,
   "id": "24bed6ec",
   "metadata": {},
   "outputs": [],
   "source": [
    "training_set = dataset_train.iloc[:, 1:2].values"
   ]
  },
  {
   "cell_type": "code",
   "execution_count": 7,
   "id": "cf936486",
   "metadata": {},
   "outputs": [],
   "source": [
    "from sklearn.preprocessing import MinMaxScaler\n",
    "sc = MinMaxScaler(feature_range = (0, 1))\n",
    "training_set_scaled = sc.fit_transform(training_set)"
   ]
  },
  {
   "cell_type": "code",
   "execution_count": 8,
   "id": "7b346a61",
   "metadata": {},
   "outputs": [],
   "source": [
    "X_train = []\n",
    "y_train = []\n",
    "for i in range(60, 2035):\n",
    "    X_train.append(training_set_scaled[i-60:i, 0])\n",
    "    y_train.append(training_set_scaled[i, 0])\n",
    "X_train, y_train = np.array(X_train), np.array(y_train)\n",
    "\n",
    "X_train = np.reshape(X_train, (X_train.shape[0], X_train.shape[1], 1))"
   ]
  },
  {
   "cell_type": "code",
   "execution_count": 9,
   "id": "f1658ef0",
   "metadata": {},
   "outputs": [],
   "source": [
    "from keras.models import Sequential\n",
    "from keras.layers import Dense\n",
    "from keras.layers import LSTM\n",
    "from keras.layers import Dropout"
   ]
  },
  {
   "cell_type": "code",
   "execution_count": 10,
   "id": "55f92ad2",
   "metadata": {},
   "outputs": [
    {
     "name": "stdout",
     "output_type": "stream",
     "text": [
      "WARNING:tensorflow:From C:\\Users\\hp\\anaconda3\\Lib\\site-packages\\keras\\src\\backend.py:873: The name tf.get_default_graph is deprecated. Please use tf.compat.v1.get_default_graph instead.\n",
      "\n",
      "WARNING:tensorflow:From C:\\Users\\hp\\anaconda3\\Lib\\site-packages\\keras\\src\\optimizers\\__init__.py:309: The name tf.train.Optimizer is deprecated. Please use tf.compat.v1.train.Optimizer instead.\n",
      "\n",
      "Epoch 1/100\n",
      "WARNING:tensorflow:From C:\\Users\\hp\\anaconda3\\Lib\\site-packages\\keras\\src\\utils\\tf_utils.py:492: The name tf.ragged.RaggedTensorValue is deprecated. Please use tf.compat.v1.ragged.RaggedTensorValue instead.\n",
      "\n",
      "62/62 [==============================] - 39s 152ms/step - loss: 0.0117\n",
      "Epoch 2/100\n",
      "62/62 [==============================] - 9s 152ms/step - loss: 0.0035\n",
      "Epoch 3/100\n",
      "62/62 [==============================] - 9s 151ms/step - loss: 0.0029\n",
      "Epoch 4/100\n",
      "62/62 [==============================] - 9s 151ms/step - loss: 0.0026\n",
      "Epoch 5/100\n",
      "62/62 [==============================] - 9s 151ms/step - loss: 0.0029\n",
      "Epoch 6/100\n",
      "62/62 [==============================] - 9s 151ms/step - loss: 0.0024\n",
      "Epoch 7/100\n",
      "62/62 [==============================] - 9s 152ms/step - loss: 0.0022\n",
      "Epoch 8/100\n",
      "62/62 [==============================] - 9s 151ms/step - loss: 0.0020\n",
      "Epoch 9/100\n",
      "62/62 [==============================] - 9s 152ms/step - loss: 0.0020\n",
      "Epoch 10/100\n",
      "62/62 [==============================] - 9s 151ms/step - loss: 0.0020\n",
      "Epoch 11/100\n",
      "62/62 [==============================] - 9s 151ms/step - loss: 0.0025\n",
      "Epoch 12/100\n",
      "62/62 [==============================] - 9s 151ms/step - loss: 0.0021\n",
      "Epoch 13/100\n",
      "62/62 [==============================] - 9s 152ms/step - loss: 0.0017\n",
      "Epoch 14/100\n",
      "62/62 [==============================] - 9s 151ms/step - loss: 0.0017\n",
      "Epoch 15/100\n",
      "62/62 [==============================] - 9s 151ms/step - loss: 0.0017\n",
      "Epoch 16/100\n",
      "62/62 [==============================] - 9s 150ms/step - loss: 0.0016\n",
      "Epoch 17/100\n",
      "62/62 [==============================] - 9s 151ms/step - loss: 0.0014\n",
      "Epoch 18/100\n",
      "62/62 [==============================] - 9s 151ms/step - loss: 0.0013\n",
      "Epoch 19/100\n",
      "62/62 [==============================] - 9s 151ms/step - loss: 0.0014\n",
      "Epoch 20/100\n",
      "62/62 [==============================] - 9s 150ms/step - loss: 0.0016\n",
      "Epoch 21/100\n",
      "62/62 [==============================] - 9s 151ms/step - loss: 0.0015\n",
      "Epoch 22/100\n",
      "62/62 [==============================] - 9s 151ms/step - loss: 0.0013\n",
      "Epoch 23/100\n",
      "62/62 [==============================] - 9s 152ms/step - loss: 0.0013\n",
      "Epoch 24/100\n",
      "62/62 [==============================] - 9s 150ms/step - loss: 0.0012\n",
      "Epoch 25/100\n",
      "62/62 [==============================] - 9s 151ms/step - loss: 0.0012\n",
      "Epoch 26/100\n",
      "62/62 [==============================] - 9s 150ms/step - loss: 0.0011\n",
      "Epoch 27/100\n",
      "62/62 [==============================] - 9s 150ms/step - loss: 0.0012\n",
      "Epoch 28/100\n",
      "62/62 [==============================] - 9s 153ms/step - loss: 0.0011\n",
      "Epoch 29/100\n",
      "62/62 [==============================] - 9s 152ms/step - loss: 0.0010\n",
      "Epoch 30/100\n",
      "62/62 [==============================] - 9s 150ms/step - loss: 0.0011\n",
      "Epoch 31/100\n",
      "62/62 [==============================] - 9s 152ms/step - loss: 0.0012\n",
      "Epoch 32/100\n",
      "62/62 [==============================] - 9s 152ms/step - loss: 0.0011\n",
      "Epoch 33/100\n",
      "62/62 [==============================] - 9s 150ms/step - loss: 0.0011\n",
      "Epoch 34/100\n",
      "62/62 [==============================] - 9s 152ms/step - loss: 0.0011\n",
      "Epoch 35/100\n",
      "62/62 [==============================] - 9s 151ms/step - loss: 0.0011\n",
      "Epoch 36/100\n",
      "62/62 [==============================] - 9s 151ms/step - loss: 0.0011\n",
      "Epoch 37/100\n",
      "62/62 [==============================] - 9s 151ms/step - loss: 9.6610e-04\n",
      "Epoch 38/100\n",
      "62/62 [==============================] - 9s 152ms/step - loss: 9.3645e-04\n",
      "Epoch 39/100\n",
      "62/62 [==============================] - 9s 150ms/step - loss: 9.6148e-04\n",
      "Epoch 40/100\n",
      "62/62 [==============================] - 9s 151ms/step - loss: 8.8528e-04\n",
      "Epoch 41/100\n",
      "62/62 [==============================] - 9s 151ms/step - loss: 9.3305e-04\n",
      "Epoch 42/100\n",
      "62/62 [==============================] - 9s 151ms/step - loss: 9.0104e-04\n",
      "Epoch 43/100\n",
      "62/62 [==============================] - 9s 151ms/step - loss: 8.8705e-04\n",
      "Epoch 44/100\n",
      "62/62 [==============================] - 9s 152ms/step - loss: 0.0011\n",
      "Epoch 45/100\n",
      "62/62 [==============================] - 9s 153ms/step - loss: 8.2762e-04\n",
      "Epoch 46/100\n",
      "62/62 [==============================] - 9s 150ms/step - loss: 8.8005e-04\n",
      "Epoch 47/100\n",
      "62/62 [==============================] - 9s 151ms/step - loss: 8.3015e-04\n",
      "Epoch 48/100\n",
      "62/62 [==============================] - 9s 151ms/step - loss: 8.6620e-04\n",
      "Epoch 49/100\n",
      "62/62 [==============================] - 9s 150ms/step - loss: 9.3144e-04\n",
      "Epoch 50/100\n",
      "62/62 [==============================] - 9s 150ms/step - loss: 9.6568e-04\n",
      "Epoch 51/100\n",
      "62/62 [==============================] - 9s 150ms/step - loss: 7.6026e-04\n",
      "Epoch 52/100\n",
      "62/62 [==============================] - 9s 150ms/step - loss: 7.8624e-04\n",
      "Epoch 53/100\n",
      "62/62 [==============================] - 9s 150ms/step - loss: 8.9503e-04\n",
      "Epoch 54/100\n",
      "62/62 [==============================] - 9s 151ms/step - loss: 7.8019e-04\n",
      "Epoch 55/100\n",
      "62/62 [==============================] - 9s 151ms/step - loss: 8.4049e-04\n",
      "Epoch 56/100\n",
      "62/62 [==============================] - 9s 151ms/step - loss: 7.5388e-04\n",
      "Epoch 57/100\n",
      "62/62 [==============================] - 9s 151ms/step - loss: 7.2495e-04\n",
      "Epoch 58/100\n",
      "62/62 [==============================] - 9s 151ms/step - loss: 7.6515e-04\n",
      "Epoch 59/100\n",
      "62/62 [==============================] - 9s 151ms/step - loss: 7.3710e-04\n",
      "Epoch 60/100\n",
      "62/62 [==============================] - 9s 152ms/step - loss: 7.6051e-04\n",
      "Epoch 61/100\n",
      "62/62 [==============================] - 9s 151ms/step - loss: 7.6675e-04\n",
      "Epoch 62/100\n",
      "62/62 [==============================] - 9s 149ms/step - loss: 6.6150e-04\n",
      "Epoch 63/100\n",
      "62/62 [==============================] - 9s 150ms/step - loss: 6.7365e-04\n",
      "Epoch 64/100\n",
      "62/62 [==============================] - 9s 150ms/step - loss: 6.4933e-04\n",
      "Epoch 65/100\n",
      "62/62 [==============================] - 9s 150ms/step - loss: 7.7082e-04\n",
      "Epoch 66/100\n",
      "62/62 [==============================] - 9s 151ms/step - loss: 7.1222e-04\n",
      "Epoch 67/100\n",
      "62/62 [==============================] - 9s 150ms/step - loss: 7.2991e-04\n",
      "Epoch 68/100\n",
      "62/62 [==============================] - 9s 151ms/step - loss: 7.6134e-04\n",
      "Epoch 69/100\n",
      "62/62 [==============================] - 9s 151ms/step - loss: 6.2270e-04\n",
      "Epoch 70/100\n",
      "62/62 [==============================] - 9s 150ms/step - loss: 6.7050e-04\n",
      "Epoch 71/100\n",
      "62/62 [==============================] - 9s 151ms/step - loss: 6.8833e-04\n",
      "Epoch 72/100\n",
      "62/62 [==============================] - 9s 150ms/step - loss: 6.7652e-04\n",
      "Epoch 73/100\n",
      "62/62 [==============================] - 9s 151ms/step - loss: 6.7785e-04\n",
      "Epoch 74/100\n",
      "62/62 [==============================] - 9s 150ms/step - loss: 7.6256e-04\n",
      "Epoch 75/100\n",
      "62/62 [==============================] - 9s 151ms/step - loss: 7.0924e-04\n",
      "Epoch 76/100\n",
      "62/62 [==============================] - 9s 151ms/step - loss: 7.6005e-04\n",
      "Epoch 77/100\n",
      "62/62 [==============================] - 9s 150ms/step - loss: 7.2322e-04\n",
      "Epoch 78/100\n",
      "62/62 [==============================] - 9s 151ms/step - loss: 6.3668e-04\n",
      "Epoch 79/100\n",
      "62/62 [==============================] - 9s 150ms/step - loss: 7.2577e-04\n",
      "Epoch 80/100\n",
      "62/62 [==============================] - 9s 151ms/step - loss: 6.6123e-04\n",
      "Epoch 81/100\n",
      "62/62 [==============================] - 9s 151ms/step - loss: 7.5855e-04\n",
      "Epoch 82/100\n",
      "62/62 [==============================] - 9s 150ms/step - loss: 6.1451e-04\n",
      "Epoch 83/100\n",
      "62/62 [==============================] - 9s 150ms/step - loss: 7.0129e-04\n",
      "Epoch 84/100\n",
      "62/62 [==============================] - 9s 151ms/step - loss: 6.7147e-04\n",
      "Epoch 85/100\n",
      "62/62 [==============================] - 9s 150ms/step - loss: 6.2108e-04\n",
      "Epoch 86/100\n",
      "62/62 [==============================] - 9s 151ms/step - loss: 7.4432e-04\n",
      "Epoch 87/100\n",
      "62/62 [==============================] - 9s 151ms/step - loss: 7.3940e-04\n",
      "Epoch 88/100\n",
      "62/62 [==============================] - 9s 150ms/step - loss: 6.7179e-04\n",
      "Epoch 89/100\n",
      "62/62 [==============================] - 9s 150ms/step - loss: 6.9448e-04\n",
      "Epoch 90/100\n",
      "62/62 [==============================] - 9s 151ms/step - loss: 6.7209e-04\n",
      "Epoch 91/100\n",
      "62/62 [==============================] - 9s 150ms/step - loss: 6.1158e-04\n",
      "Epoch 92/100\n",
      "62/62 [==============================] - 9s 152ms/step - loss: 7.6571e-04\n",
      "Epoch 93/100\n",
      "62/62 [==============================] - 10s 155ms/step - loss: 6.8998e-04\n",
      "Epoch 94/100\n",
      "62/62 [==============================] - 10s 155ms/step - loss: 6.2977e-04\n",
      "Epoch 95/100\n",
      "62/62 [==============================] - 10s 155ms/step - loss: 6.0811e-04\n",
      "Epoch 96/100\n",
      "62/62 [==============================] - 10s 155ms/step - loss: 6.3500e-04\n",
      "Epoch 97/100\n",
      "62/62 [==============================] - 10s 156ms/step - loss: 5.9191e-04\n",
      "Epoch 98/100\n",
      "62/62 [==============================] - 10s 160ms/step - loss: 7.2401e-04\n",
      "Epoch 99/100\n",
      "62/62 [==============================] - 10s 165ms/step - loss: 6.1727e-04\n",
      "Epoch 100/100\n",
      "62/62 [==============================] - 10s 156ms/step - loss: 7.8064e-04\n"
     ]
    },
    {
     "data": {
      "text/plain": [
       "<keras.src.callbacks.History at 0x19fe0947bd0>"
      ]
     },
     "execution_count": 10,
     "metadata": {},
     "output_type": "execute_result"
    }
   ],
   "source": [
    "regressor = Sequential()\n",
    "regressor.add(LSTM(units = 50, return_sequences = True, input_shape = (X_train.shape[1], 1)))\n",
    "regressor.add(Dropout(0.2))\n",
    "\n",
    "regressor.add(LSTM(units = 50, return_sequences = True))\n",
    "regressor.add(Dropout(0.2))\n",
    "\n",
    "regressor.add(LSTM(units = 50, return_sequences = True))\n",
    "regressor.add(Dropout(0.2))\n",
    "\n",
    "regressor.add(LSTM(units = 50))\n",
    "regressor.add(Dropout(0.2))\n",
    "\n",
    "regressor.add(Dense(units = 1))\n",
    "\n",
    "regressor.compile(optimizer = 'adam', loss = 'mean_squared_error')\n",
    "\n",
    "regressor.fit(X_train, y_train, epochs = 100, batch_size = 32)"
   ]
  },
  {
   "cell_type": "code",
   "execution_count": 11,
   "id": "39195bd7",
   "metadata": {},
   "outputs": [],
   "source": [
    "dataset_test = pd.read_csv('tatatest.csv')\n",
    "real_stock_price = dataset_test.iloc[:, 1:2].values"
   ]
  },
  {
   "cell_type": "code",
   "execution_count": 12,
   "id": "9f0466c7",
   "metadata": {},
   "outputs": [
    {
     "name": "stdout",
     "output_type": "stream",
     "text": [
      "1/1 [==============================] - 7s 7s/step\n"
     ]
    }
   ],
   "source": [
    "dataset_total = pd.concat((dataset_train['Open'], dataset_test['Open']), axis = 0)\n",
    "inputs = dataset_total[len(dataset_total) - len(dataset_test) - 60:].values\n",
    "inputs = inputs.reshape(-1,1)\n",
    "inputs = sc.transform(inputs)\n",
    "X_test = []\n",
    "for i in range(60, 76):\n",
    "    X_test.append(inputs[i-60:i, 0])\n",
    "X_test = np.array(X_test)\n",
    "X_test = np.reshape(X_test, (X_test.shape[0], X_test.shape[1], 1))\n",
    "predicted_stock_price = regressor.predict(X_test)\n",
    "predicted_stock_price = sc.inverse_transform(predicted_stock_price)"
   ]
  },
  {
   "cell_type": "code",
   "execution_count": 13,
   "id": "9140a83c",
   "metadata": {},
   "outputs": [
    {
     "data": {
      "image/png": "[encoded data removed]",
      "text/plain": [
       "<Figure size 1000x500 with 1 Axes>"
      ]
     },
     "metadata": {},
     "output_type": "display_data"
    }
   ],
   "source": [
    "plt.figure(figsize=(10,5))\n",
    "plt.plot(real_stock_price, color = 'green', label = 'TATA Stock Price')\n",
    "plt.plot(predicted_stock_price, color = 'blue', label = 'Predicted TATA Stock Price')\n",
    "plt.title('TATA Stock Price Prediction')\n",
    "plt.xlabel('Time')\n",
    "plt.ylabel('TATA Stock Price')\n",
    "plt.legend()\n",
    "plt.show()"
   ]
  },
  {
   "cell_type": "code",
   "execution_count": null,
   "id": "ee1b78ce",
   "metadata": {},
   "outputs": [],
   "source": []
  }
 ],
 "metadata": {
  "kernelspec": {
   "display_name": "Python 3 (ipykernel)",
   "language": "python",
   "name": "python3"
  },
  "language_info": {
   "codemirror_mode": {
    "name": "ipython",
    "version": 3
   },
   "file_extension": ".py",
   "mimetype": "text/x-python",
   "name": "python",
   "nbconvert_exporter": "python",
   "pygments_lexer": "ipython3",
   "version": "3.11.5"
  }
 },
 "nbformat": 4,
 "nbformat_minor": 5
}
